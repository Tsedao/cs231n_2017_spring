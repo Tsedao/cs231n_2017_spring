{
 "cells": [
  {
   "cell_type": "markdown",
   "metadata": {},
   "source": [
    "# Softmax exercise\n",
    "\n",
    "*Complete and hand in this completed worksheet (including its outputs and any supporting code outside of the worksheet) with your assignment submission. For more details see the [assignments page](http://vision.stanford.edu/teaching/cs231n/assignments.html) on the course website.*\n",
    "\n",
    "This exercise is analogous to the SVM exercise. You will:\n",
    "\n",
    "- implement a fully-vectorized **loss function** for the Softmax classifier\n",
    "- implement the fully-vectorized expression for its **analytic gradient**\n",
    "- **check your implementation** with numerical gradient\n",
    "- use a validation set to **tune the learning rate and regularization** strength\n",
    "- **optimize** the loss function with **SGD**\n",
    "- **visualize** the final learned weights\n"
   ]
  },
  {
   "cell_type": "code",
   "execution_count": 1,
   "metadata": {
    "collapsed": false
   },
   "outputs": [],
   "source": [
    "import random\n",
    "import numpy as np\n",
    "from cs231n.data_utils import load_CIFAR10\n",
    "import matplotlib.pyplot as plt\n",
    "\n",
    "from __future__ import print_function\n",
    "\n",
    "%matplotlib inline\n",
    "plt.rcParams['figure.figsize'] = (10.0, 8.0) # set default size of plots\n",
    "plt.rcParams['image.interpolation'] = 'nearest'\n",
    "plt.rcParams['image.cmap'] = 'gray'\n",
    "\n",
    "# for auto-reloading extenrnal modules\n",
    "# see http://stackoverflow.com/questions/1907993/autoreload-of-modules-in-ipython\n",
    "%load_ext autoreload\n",
    "%autoreload 2"
   ]
  },
  {
   "cell_type": "code",
   "execution_count": 2,
   "metadata": {
    "collapsed": false
   },
   "outputs": [
    {
     "name": "stdout",
     "output_type": "stream",
     "text": [
      "Train data shape:  (49000, 3073)\n",
      "Train labels shape:  (49000,)\n",
      "Validation data shape:  (1000, 3073)\n",
      "Validation labels shape:  (1000,)\n",
      "Test data shape:  (1000, 3073)\n",
      "Test labels shape:  (1000,)\n",
      "dev data shape:  (500, 3073)\n",
      "dev labels shape:  (500,)\n"
     ]
    }
   ],
   "source": [
    "def get_CIFAR10_data(num_training=49000, num_validation=1000, num_test=1000, num_dev=500):\n",
    "    \"\"\"\n",
    "    Load the CIFAR-10 dataset from disk and perform preprocessing to prepare\n",
    "    it for the linear classifier. These are the same steps as we used for the\n",
    "    SVM, but condensed to a single function.  \n",
    "    \"\"\"\n",
    "    # Load the raw CIFAR-10 data\n",
    "    cifar10_dir = 'cs231n/datasets/cifar-10-batches-py'\n",
    "    X_train, y_train, X_test, y_test = load_CIFAR10(cifar10_dir)\n",
    "    \n",
    "    # subsample the data\n",
    "    mask = list(range(num_training, num_training + num_validation))\n",
    "    X_val = X_train[mask]\n",
    "    y_val = y_train[mask]\n",
    "    mask = list(range(num_training))\n",
    "    X_train = X_train[mask]\n",
    "    y_train = y_train[mask]\n",
    "    mask = list(range(num_test))\n",
    "    X_test = X_test[mask]\n",
    "    y_test = y_test[mask]\n",
    "    mask = np.random.choice(num_training, num_dev, replace=False)\n",
    "    X_dev = X_train[mask]\n",
    "    y_dev = y_train[mask]\n",
    "    \n",
    "    # Preprocessing: reshape the image data into rows\n",
    "    X_train = np.reshape(X_train, (X_train.shape[0], -1))\n",
    "    X_val = np.reshape(X_val, (X_val.shape[0], -1))\n",
    "    X_test = np.reshape(X_test, (X_test.shape[0], -1))\n",
    "    X_dev = np.reshape(X_dev, (X_dev.shape[0], -1))\n",
    "    \n",
    "    # Normalize the data: subtract the mean image\n",
    "    mean_image = np.mean(X_train, axis = 0)\n",
    "    X_train -= mean_image\n",
    "    X_val -= mean_image\n",
    "    X_test -= mean_image\n",
    "    X_dev -= mean_image\n",
    "    \n",
    "    # add bias dimension and transform into columns\n",
    "    X_train = np.hstack([X_train, np.ones((X_train.shape[0], 1))])\n",
    "    X_val = np.hstack([X_val, np.ones((X_val.shape[0], 1))])\n",
    "    X_test = np.hstack([X_test, np.ones((X_test.shape[0], 1))])\n",
    "    X_dev = np.hstack([X_dev, np.ones((X_dev.shape[0], 1))])\n",
    "    \n",
    "    return X_train, y_train, X_val, y_val, X_test, y_test, X_dev, y_dev\n",
    "\n",
    "\n",
    "# Invoke the above function to get our data.\n",
    "X_train, y_train, X_val, y_val, X_test, y_test, X_dev, y_dev = get_CIFAR10_data()\n",
    "print('Train data shape: ', X_train.shape)\n",
    "print('Train labels shape: ', y_train.shape)\n",
    "print('Validation data shape: ', X_val.shape)\n",
    "print('Validation labels shape: ', y_val.shape)\n",
    "print('Test data shape: ', X_test.shape)\n",
    "print('Test labels shape: ', y_test.shape)\n",
    "print('dev data shape: ', X_dev.shape)\n",
    "print('dev labels shape: ', y_dev.shape)"
   ]
  },
  {
   "cell_type": "markdown",
   "metadata": {},
   "source": [
    "## Softmax Classifier\n",
    "\n",
    "Your code for this section will all be written inside **cs231n/classifiers/softmax.py**. \n"
   ]
  },
  {
   "cell_type": "code",
   "execution_count": 3,
   "metadata": {
    "collapsed": false
   },
   "outputs": [
    {
     "name": "stdout",
     "output_type": "stream",
     "text": [
      "loss: 2.403304\n",
      "sanity check: 2.302585\n"
     ]
    }
   ],
   "source": [
    "# First implement the naive softmax loss function with nested loops.\n",
    "# Open the file cs231n/classifiers/softmax.py and implement the\n",
    "# softmax_loss_naive function.\n",
    "\n",
    "from cs231n.classifiers.softmax import softmax_loss_naive\n",
    "import time\n",
    "\n",
    "# Generate a random softmax weight matrix and use it to compute the loss.\n",
    "W = np.random.randn(3073, 10) * 0.0001\n",
    "loss, grad = softmax_loss_naive(W, X_dev, y_dev, 0.0)\n",
    "\n",
    "# As a rough sanity check, our loss should be something close to -log(0.1).\n",
    "print('loss: %f' % loss)\n",
    "print('sanity check: %f' % (-np.log(0.1)))"
   ]
  },
  {
   "cell_type": "markdown",
   "metadata": {},
   "source": [
    "## Inline Question 1:\n",
    "Why do we expect our loss to be close to -log(0.1)? Explain briefly.**\n",
    "\n",
    "**Your answer:** *When W is close to 0, $e^{s_j}$ is close to 1, so $L_i$ is close to $-log(1/10)$*\n"
   ]
  },
  {
   "cell_type": "code",
   "execution_count": 4,
   "metadata": {
    "collapsed": false
   },
   "outputs": [
    {
     "name": "stdout",
     "output_type": "stream",
     "text": [
      "numerical: -0.789276 analytic: -0.789276, relative error: 3.072906e-08\n",
      "numerical: 1.785657 analytic: 1.785657, relative error: 2.677170e-08\n",
      "numerical: -0.024371 analytic: -0.024371, relative error: 6.777006e-07\n",
      "numerical: -5.034079 analytic: -5.034079, relative error: 8.640407e-09\n",
      "numerical: -2.143255 analytic: -2.143255, relative error: 2.925316e-09\n",
      "numerical: -2.467187 analytic: -2.467187, relative error: 2.296446e-08\n",
      "numerical: 5.647894 analytic: 5.647894, relative error: 1.777064e-08\n",
      "numerical: -0.081734 analytic: -0.081734, relative error: 3.501400e-08\n",
      "numerical: -1.064426 analytic: -1.064426, relative error: 4.466046e-08\n",
      "numerical: 0.155749 analytic: 0.155749, relative error: 5.545040e-07\n",
      "numerical: 2.980376 analytic: 2.980376, relative error: 2.080868e-08\n",
      "numerical: -0.304895 analytic: -0.304895, relative error: 9.369212e-09\n",
      "numerical: 0.667127 analytic: 0.667126, relative error: 6.598107e-08\n",
      "numerical: -3.944321 analytic: -3.944321, relative error: 2.739300e-09\n",
      "numerical: 2.293990 analytic: 2.293990, relative error: 6.800695e-09\n",
      "numerical: 3.124439 analytic: 3.124439, relative error: 1.321259e-08\n",
      "numerical: 1.438873 analytic: 1.438873, relative error: 2.503336e-08\n",
      "numerical: 1.833456 analytic: 1.833456, relative error: 1.447364e-08\n",
      "numerical: -0.210306 analytic: -0.210306, relative error: 4.804986e-07\n",
      "numerical: -0.703443 analytic: -0.703443, relative error: 2.562291e-08\n"
     ]
    }
   ],
   "source": [
    "# Complete the implementation of softmax_loss_naive and implement a (naive)\n",
    "# version of the gradient that uses nested loops.\n",
    "loss, grad = softmax_loss_naive(W, X_dev, y_dev, 0.0)\n",
    "\n",
    "# As we did for the SVM, use numeric gradient checking as a debugging tool.\n",
    "# The numeric gradient should be close to the analytic gradient.\n",
    "from cs231n.gradient_check import grad_check_sparse\n",
    "f = lambda w: softmax_loss_naive(w, X_dev, y_dev, 0.0)[0]\n",
    "grad_numerical = grad_check_sparse(f, W, grad, 10)\n",
    "\n",
    "# similar to SVM case, do another gradient check with regularization\n",
    "loss, grad = softmax_loss_naive(W, X_dev, y_dev, 5e1)\n",
    "f = lambda w: softmax_loss_naive(w, X_dev, y_dev, 5e1)[0]\n",
    "grad_numerical = grad_check_sparse(f, W, grad, 10)"
   ]
  },
  {
   "cell_type": "code",
   "execution_count": 19,
   "metadata": {
    "collapsed": false
   },
   "outputs": [
    {
     "name": "stdout",
     "output_type": "stream",
     "text": [
      "naive loss: 2.403304e+00 computed in 0.152271s\n",
      "vectorized loss: 2.403304e+00 computed in 0.007801s\n",
      "Loss difference: 0.000000\n",
      "Gradient difference: 0.000000\n"
     ]
    }
   ],
   "source": [
    "# Now that we have a naive implementation of the softmax loss function and its gradient,\n",
    "# implement a vectorized version in softmax_loss_vectorized.\n",
    "# The two versions should compute the same results, but the vectorized version should be\n",
    "# much faster.\n",
    "tic = time.time()\n",
    "loss_naive, grad_naive = softmax_loss_naive(W, X_dev, y_dev, 0.000005)\n",
    "toc = time.time()\n",
    "print('naive loss: %e computed in %fs' % (loss_naive, toc - tic))\n",
    "\n",
    "from cs231n.classifiers.softmax import softmax_loss_vectorized\n",
    "tic = time.time()\n",
    "loss_vectorized, grad_vectorized = softmax_loss_vectorized(W, X_dev, y_dev, 0.000005)\n",
    "toc = time.time()\n",
    "print('vectorized loss: %e computed in %fs' % (loss_vectorized, toc - tic))\n",
    "\n",
    "# As we did for the SVM, we use the Frobenius norm to compare the two versions\n",
    "# of the gradient.\n",
    "grad_difference = np.linalg.norm(grad_naive - grad_vectorized, ord='fro')\n",
    "print('Loss difference: %f' % np.abs(loss_naive - loss_vectorized))\n",
    "print('Gradient difference: %f' % grad_difference)"
   ]
  },
  {
   "cell_type": "code",
   "execution_count": 32,
   "metadata": {
    "collapsed": false
   },
   "outputs": [
    {
     "name": "stdout",
     "output_type": "stream",
     "text": [
      "lr 4.367068e-07 reg 3.706552e+04 train accuracy: 0.321388 val accuracy: 0.334250\n",
      "lr 4.367068e-07 reg 3.762239e+04 train accuracy: 0.320490 val accuracy: 0.330250\n",
      "lr 4.367068e-07 reg 3.832328e+04 train accuracy: 0.320918 val accuracy: 0.331500\n",
      "lr 4.367068e-07 reg 3.892256e+04 train accuracy: 0.312020 val accuracy: 0.322000\n",
      "lr 4.367068e-07 reg 3.905471e+04 train accuracy: 0.316347 val accuracy: 0.320500\n",
      "lr 4.367068e-07 reg 4.019242e+04 train accuracy: 0.316551 val accuracy: 0.318250\n",
      "lr 4.367068e-07 reg 4.054183e+04 train accuracy: 0.313714 val accuracy: 0.321500\n",
      "lr 4.367068e-07 reg 4.214708e+04 train accuracy: 0.313837 val accuracy: 0.321250\n",
      "lr 4.367068e-07 reg 4.306989e+04 train accuracy: 0.316755 val accuracy: 0.320250\n",
      "lr 4.367068e-07 reg 4.321280e+04 train accuracy: 0.312939 val accuracy: 0.319750\n",
      "lr 4.386544e-07 reg 3.706552e+04 train accuracy: 0.319163 val accuracy: 0.327500\n",
      "lr 4.386544e-07 reg 3.762239e+04 train accuracy: 0.319041 val accuracy: 0.329000\n",
      "lr 4.386544e-07 reg 3.832328e+04 train accuracy: 0.316796 val accuracy: 0.317750\n",
      "lr 4.386544e-07 reg 3.892256e+04 train accuracy: 0.313653 val accuracy: 0.323500\n",
      "lr 4.386544e-07 reg 3.905471e+04 train accuracy: 0.309612 val accuracy: 0.316000\n",
      "lr 4.386544e-07 reg 4.019242e+04 train accuracy: 0.310571 val accuracy: 0.319250\n",
      "lr 4.386544e-07 reg 4.054183e+04 train accuracy: 0.312245 val accuracy: 0.322750\n",
      "lr 4.386544e-07 reg 4.214708e+04 train accuracy: 0.310122 val accuracy: 0.320250\n",
      "lr 4.386544e-07 reg 4.306989e+04 train accuracy: 0.304633 val accuracy: 0.311750\n",
      "lr 4.386544e-07 reg 4.321280e+04 train accuracy: 0.310755 val accuracy: 0.317000\n",
      "lr 4.467811e-07 reg 3.706552e+04 train accuracy: 0.318612 val accuracy: 0.324750\n",
      "lr 4.467811e-07 reg 3.762239e+04 train accuracy: 0.318245 val accuracy: 0.323250\n",
      "lr 4.467811e-07 reg 3.832328e+04 train accuracy: 0.316000 val accuracy: 0.318500\n",
      "lr 4.467811e-07 reg 3.892256e+04 train accuracy: 0.313184 val accuracy: 0.323750\n",
      "lr 4.467811e-07 reg 3.905471e+04 train accuracy: 0.315857 val accuracy: 0.327750\n",
      "lr 4.467811e-07 reg 4.019242e+04 train accuracy: 0.316408 val accuracy: 0.329750\n",
      "lr 4.467811e-07 reg 4.054183e+04 train accuracy: 0.316143 val accuracy: 0.326250\n",
      "lr 4.467811e-07 reg 4.214708e+04 train accuracy: 0.311143 val accuracy: 0.318500\n",
      "lr 4.467811e-07 reg 4.306989e+04 train accuracy: 0.308510 val accuracy: 0.317000\n",
      "lr 4.467811e-07 reg 4.321280e+04 train accuracy: 0.313000 val accuracy: 0.325500\n",
      "lr 4.541180e-07 reg 3.706552e+04 train accuracy: 0.310918 val accuracy: 0.323250\n",
      "lr 4.541180e-07 reg 3.762239e+04 train accuracy: 0.309347 val accuracy: 0.324500\n",
      "lr 4.541180e-07 reg 3.832328e+04 train accuracy: 0.304592 val accuracy: 0.311750\n",
      "lr 4.541180e-07 reg 3.892256e+04 train accuracy: 0.310163 val accuracy: 0.317000\n",
      "lr 4.541180e-07 reg 3.905471e+04 train accuracy: 0.312878 val accuracy: 0.314000\n",
      "lr 4.541180e-07 reg 4.019242e+04 train accuracy: 0.313755 val accuracy: 0.320500\n",
      "lr 4.541180e-07 reg 4.054183e+04 train accuracy: 0.312878 val accuracy: 0.328000\n",
      "lr 4.541180e-07 reg 4.214708e+04 train accuracy: 0.314000 val accuracy: 0.327000\n",
      "lr 4.541180e-07 reg 4.306989e+04 train accuracy: 0.306061 val accuracy: 0.319750\n",
      "lr 4.541180e-07 reg 4.321280e+04 train accuracy: 0.313531 val accuracy: 0.322500\n",
      "lr 4.560859e-07 reg 3.706552e+04 train accuracy: 0.317143 val accuracy: 0.326000\n",
      "lr 4.560859e-07 reg 3.762239e+04 train accuracy: 0.311449 val accuracy: 0.321000\n",
      "lr 4.560859e-07 reg 3.832328e+04 train accuracy: 0.316041 val accuracy: 0.319500\n",
      "lr 4.560859e-07 reg 3.892256e+04 train accuracy: 0.319878 val accuracy: 0.327500\n",
      "lr 4.560859e-07 reg 3.905471e+04 train accuracy: 0.315163 val accuracy: 0.318500\n",
      "lr 4.560859e-07 reg 4.019242e+04 train accuracy: 0.314735 val accuracy: 0.323500\n",
      "lr 4.560859e-07 reg 4.054183e+04 train accuracy: 0.309918 val accuracy: 0.320000\n",
      "lr 4.560859e-07 reg 4.214708e+04 train accuracy: 0.312714 val accuracy: 0.325750\n",
      "lr 4.560859e-07 reg 4.306989e+04 train accuracy: 0.309796 val accuracy: 0.314500\n",
      "lr 4.560859e-07 reg 4.321280e+04 train accuracy: 0.312082 val accuracy: 0.319750\n",
      "lr 4.636366e-07 reg 3.706552e+04 train accuracy: 0.312816 val accuracy: 0.324750\n",
      "lr 4.636366e-07 reg 3.762239e+04 train accuracy: 0.320143 val accuracy: 0.329000\n",
      "lr 4.636366e-07 reg 3.832328e+04 train accuracy: 0.313020 val accuracy: 0.321750\n",
      "lr 4.636366e-07 reg 3.892256e+04 train accuracy: 0.318551 val accuracy: 0.332000\n",
      "lr 4.636366e-07 reg 3.905471e+04 train accuracy: 0.316571 val accuracy: 0.322750\n",
      "lr 4.636366e-07 reg 4.019242e+04 train accuracy: 0.317306 val accuracy: 0.322500\n",
      "lr 4.636366e-07 reg 4.054183e+04 train accuracy: 0.318265 val accuracy: 0.325500\n",
      "lr 4.636366e-07 reg 4.214708e+04 train accuracy: 0.310653 val accuracy: 0.319750\n",
      "lr 4.636366e-07 reg 4.306989e+04 train accuracy: 0.311816 val accuracy: 0.322500\n",
      "lr 4.636366e-07 reg 4.321280e+04 train accuracy: 0.310673 val accuracy: 0.319250\n",
      "lr 4.719796e-07 reg 3.706552e+04 train accuracy: 0.319673 val accuracy: 0.330500\n",
      "lr 4.719796e-07 reg 3.762239e+04 train accuracy: 0.317531 val accuracy: 0.329250\n",
      "lr 4.719796e-07 reg 3.832328e+04 train accuracy: 0.317694 val accuracy: 0.327000\n",
      "lr 4.719796e-07 reg 3.892256e+04 train accuracy: 0.312224 val accuracy: 0.320500\n",
      "lr 4.719796e-07 reg 3.905471e+04 train accuracy: 0.314673 val accuracy: 0.322250\n",
      "lr 4.719796e-07 reg 4.019242e+04 train accuracy: 0.312531 val accuracy: 0.317750\n",
      "lr 4.719796e-07 reg 4.054183e+04 train accuracy: 0.314735 val accuracy: 0.325750\n",
      "lr 4.719796e-07 reg 4.214708e+04 train accuracy: 0.312388 val accuracy: 0.327750\n",
      "lr 4.719796e-07 reg 4.306989e+04 train accuracy: 0.309898 val accuracy: 0.316250\n",
      "lr 4.719796e-07 reg 4.321280e+04 train accuracy: 0.318816 val accuracy: 0.322750\n",
      "lr 4.758319e-07 reg 3.706552e+04 train accuracy: 0.315633 val accuracy: 0.326250\n",
      "lr 4.758319e-07 reg 3.762239e+04 train accuracy: 0.317306 val accuracy: 0.324500\n",
      "lr 4.758319e-07 reg 3.832328e+04 train accuracy: 0.320469 val accuracy: 0.332750\n",
      "lr 4.758319e-07 reg 3.892256e+04 train accuracy: 0.314102 val accuracy: 0.326000\n",
      "lr 4.758319e-07 reg 3.905471e+04 train accuracy: 0.318286 val accuracy: 0.328000\n",
      "lr 4.758319e-07 reg 4.019242e+04 train accuracy: 0.313041 val accuracy: 0.329000\n",
      "lr 4.758319e-07 reg 4.054183e+04 train accuracy: 0.315245 val accuracy: 0.326250\n",
      "lr 4.758319e-07 reg 4.214708e+04 train accuracy: 0.315388 val accuracy: 0.322500\n",
      "lr 4.758319e-07 reg 4.306989e+04 train accuracy: 0.311939 val accuracy: 0.323500\n",
      "lr 4.758319e-07 reg 4.321280e+04 train accuracy: 0.309143 val accuracy: 0.316750\n",
      "lr 4.770271e-07 reg 3.706552e+04 train accuracy: 0.315878 val accuracy: 0.326750\n",
      "lr 4.770271e-07 reg 3.762239e+04 train accuracy: 0.315612 val accuracy: 0.329000\n",
      "lr 4.770271e-07 reg 3.832328e+04 train accuracy: 0.315245 val accuracy: 0.327750\n",
      "lr 4.770271e-07 reg 3.892256e+04 train accuracy: 0.308796 val accuracy: 0.319000\n",
      "lr 4.770271e-07 reg 3.905471e+04 train accuracy: 0.309571 val accuracy: 0.321750\n",
      "lr 4.770271e-07 reg 4.019242e+04 train accuracy: 0.310204 val accuracy: 0.316000\n",
      "lr 4.770271e-07 reg 4.054183e+04 train accuracy: 0.318449 val accuracy: 0.324500\n",
      "lr 4.770271e-07 reg 4.214708e+04 train accuracy: 0.310918 val accuracy: 0.321000\n",
      "lr 4.770271e-07 reg 4.306989e+04 train accuracy: 0.316367 val accuracy: 0.318000\n",
      "lr 4.770271e-07 reg 4.321280e+04 train accuracy: 0.314878 val accuracy: 0.321500\n",
      "lr 4.772137e-07 reg 3.706552e+04 train accuracy: 0.320000 val accuracy: 0.329250\n",
      "lr 4.772137e-07 reg 3.762239e+04 train accuracy: 0.316327 val accuracy: 0.325500\n",
      "lr 4.772137e-07 reg 3.832328e+04 train accuracy: 0.316367 val accuracy: 0.328000\n",
      "lr 4.772137e-07 reg 3.892256e+04 train accuracy: 0.314245 val accuracy: 0.322750\n",
      "lr 4.772137e-07 reg 3.905471e+04 train accuracy: 0.315367 val accuracy: 0.325500\n",
      "lr 4.772137e-07 reg 4.019242e+04 train accuracy: 0.314163 val accuracy: 0.317500\n",
      "lr 4.772137e-07 reg 4.054183e+04 train accuracy: 0.316388 val accuracy: 0.321000\n",
      "lr 4.772137e-07 reg 4.214708e+04 train accuracy: 0.316612 val accuracy: 0.323000\n",
      "lr 4.772137e-07 reg 4.306989e+04 train accuracy: 0.309980 val accuracy: 0.316500\n",
      "lr 4.772137e-07 reg 4.321280e+04 train accuracy: 0.311245 val accuracy: 0.320750\n",
      "best validation accuracy achieved during cross-validation: 0.334250\n"
     ]
    }
   ],
   "source": [
    "# Use the validation set to tune hyperparameters (regularization strength and\n",
    "# learning rate). You should experiment with different ranges for the learning\n",
    "# rates and regularization strengths; if you are careful you should be able to\n",
    "# get a classification accuracy of over 0.35 on the validation set.\n",
    "from cs231n.classifiers import Softmax\n",
    "results = {}\n",
    "best_val = -1\n",
    "best_softmax = None\n",
    "learning_rates = [4.3e-7, 4.8e-7]\n",
    "regularization_strengths = [3.5e4, 4.5e4]\n",
    "\n",
    "################################################################################\n",
    "# TODO:                                                                        #\n",
    "# Use the validation set to set the learning rate and regularization strength. #\n",
    "# This should be identical to the validation that you did for the SVM; save    #\n",
    "# the best trained softmax classifer in best_softmax.                          #\n",
    "################################################################################\n",
    "num_folds = 4\n",
    "\n",
    "lr_range = (learning_rates[1]-learning_rates[0])*np.random.sample(10)+learning_rates[0]\n",
    "reg_range = (regularization_strengths[1]-regularization_strengths[0])*np.random.sample(10)+regularization_strengths[0]\n",
    "X_train_folds = np.array_split(X_train,num_folds)\n",
    "y_train_folds = np.array_split(y_train,num_folds)\n",
    "for lr in lr_range:\n",
    "    for reg in reg_range:\n",
    "        acc_train=0\n",
    "        acc_val=0\n",
    "        for X_fold, y_fold in zip(X_train_folds, y_train_folds):\n",
    "            clf=Softmax()\n",
    "            clf.train(X_fold,y_fold,learning_rate=lr,reg=reg,num_iters=1500)\n",
    "            y_pred_train = clf.predict(X_fold)\n",
    "            y_pred_val = clf.predict(X_val)\n",
    "            acc_train += np.mean(y_pred_train==y_fold)\n",
    "            acc_val += np.mean(y_pred_val==y_val)\n",
    "        acc_train /= num_folds\n",
    "        acc_val /= num_folds\n",
    "        results[(lr,reg)]=(acc_train,acc_val)\n",
    "        if acc_val > best_val:\n",
    "            best_val = acc_val\n",
    "            best_softmax = clf\n",
    "\n",
    "################################################################################\n",
    "#                              END OF YOUR CODE                                #\n",
    "################################################################################\n",
    "    \n",
    "# Print out results.\n",
    "for lr, reg in sorted(results):\n",
    "    train_accuracy, val_accuracy = results[(lr, reg)]\n",
    "    print('lr %e reg %e train accuracy: %f val accuracy: %f' % (\n",
    "                lr, reg, train_accuracy, val_accuracy))\n",
    "    \n",
    "print('best validation accuracy achieved during cross-validation: %f' % best_val)"
   ]
  },
  {
   "cell_type": "code",
   "execution_count": 34,
   "metadata": {
    "collapsed": false
   },
   "outputs": [
    {
     "name": "stdout",
     "output_type": "stream",
     "text": [
      "softmax on raw pixels final test set accuracy: 0.340000\n"
     ]
    }
   ],
   "source": [
    "# evaluate on test set\n",
    "# Evaluate the best softmax on test set\n",
    "\n",
    "y_test_pred = best_softmax.predict(X_test)\n",
    "test_accuracy = np.mean(y_test == y_test_pred)\n",
    "print('softmax on raw pixels final test set accuracy: %f' % (test_accuracy, ))"
   ]
  },
  {
   "cell_type": "code",
   "execution_count": 33,
   "metadata": {
    "collapsed": false
   },
   "outputs": [
    {
     "data": {
      "image/png": "[encoded data removed]",
      "text/plain": [
       "<matplotlib.figure.Figure at 0x7fa61946a0f0>"
      ]
     },
     "metadata": {},
     "output_type": "display_data"
    }
   ],
   "source": [
    "# Visualize the learned weights for each class\n",
    "w = best_softmax.W[:-1,:] # strip out the bias\n",
    "w = w.reshape(32, 32, 3, 10)\n",
    "\n",
    "w_min, w_max = np.min(w), np.max(w)\n",
    "\n",
    "classes = ['plane', 'car', 'bird', 'cat', 'deer', 'dog', 'frog', 'horse', 'ship', 'truck']\n",
    "for i in range(10):\n",
    "    plt.subplot(2, 5, i + 1)\n",
    "    \n",
    "    # Rescale the weights to be between 0 and 255\n",
    "    wimg = 255.0 * (w[:, :, :, i].squeeze() - w_min) / (w_max - w_min)\n",
    "    plt.imshow(wimg.astype('uint8'))\n",
    "    plt.axis('off')\n",
    "    plt.title(classes[i])"
   ]
  }
 ],
 "metadata": {
  "kernelspec": {
   "display_name": "Python 3",
   "language": "python",
   "name": "python3"
  },
  "language_info": {
   "codemirror_mode": {
    "name": "ipython",
    "version": 3
   },
   "file_extension": ".py",
   "mimetype": "text/x-python",
   "name": "python",
   "nbconvert_exporter": "python",
   "pygments_lexer": "ipython3",
   "version": "3.6.7"
  }
 },
 "nbformat": 4,
 "nbformat_minor": 0
}
